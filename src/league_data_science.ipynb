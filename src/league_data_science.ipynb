{
 "cells": [
  {
   "cell_type": "code",
   "execution_count": 1,
   "metadata": {},
   "outputs": [
    {
     "name": "stderr",
     "output_type": "stream",
     "text": [
      "C:\\Users\\Programming\\Anaconda3\\lib\\site-packages\\numpy\\_distributor_init.py:32: UserWarning: loaded more than 1 DLL from .libs:\n",
      "C:\\Users\\Programming\\Anaconda3\\lib\\site-packages\\numpy\\.libs\\libopenblas.WCDJNK7YVMPZQ2ME2ZZHJJRJ3JIKNDB7.gfortran-win_amd64.dll\n",
      "C:\\Users\\Programming\\Anaconda3\\lib\\site-packages\\numpy\\.libs\\libopenblas.XWYDX2IKJW2NMTWSFYNGFUWKQU3LYTCZ.gfortran-win_amd64.dll\n",
      "  stacklevel=1)\n"
     ]
    }
   ],
   "source": [
    "import numpy as np \n",
    "import matplotlib.pyplot as plt \n",
    "import pandas as pd \n",
    "import os\n",
    "import seaborn as sns"
   ]
  },
  {
   "cell_type": "markdown",
   "metadata": {},
   "source": [
    "### Data path "
   ]
  },
  {
   "cell_type": "code",
   "execution_count": 2,
   "metadata": {},
   "outputs": [],
   "source": [
    "curr_path = os.getcwd()\n",
    "data_dir = os.path.join(curr_path, \"get-data/dataset\")\n",
    "match_csv = os.path.join(data_dir, \"match.csv\")\n",
    "pro_list_csv = os.path.join(data_dir, \"pro_list_updated.csv\")"
   ]
  },
  {
   "cell_type": "markdown",
   "metadata": {},
   "source": [
    "### 1. Quick overview of the match dataset\n",
    "\n",
    "We will plot some basic descriptive statistics regarding our dataset."
   ]
  },
  {
   "cell_type": "code",
   "execution_count": 3,
   "metadata": {},
   "outputs": [],
   "source": [
    "match_df = pd.read_csv(match_csv)"
   ]
  },
  {
   "cell_type": "code",
   "execution_count": 4,
   "metadata": {},
   "outputs": [
    {
     "name": "stdout",
     "output_type": "stream",
     "text": [
      "Dataset of shapes :  (95228, 117)\n"
     ]
    },
    {
     "data": {
      "text/html": [
       "<div>\n",
       "<style scoped>\n",
       "    .dataframe tbody tr th:only-of-type {\n",
       "        vertical-align: middle;\n",
       "    }\n",
       "\n",
       "    .dataframe tbody tr th {\n",
       "        vertical-align: top;\n",
       "    }\n",
       "\n",
       "    .dataframe thead th {\n",
       "        text-align: right;\n",
       "    }\n",
       "</style>\n",
       "<table border=\"1\" class=\"dataframe\">\n",
       "  <thead>\n",
       "    <tr style=\"text-align: right;\">\n",
       "      <th></th>\n",
       "      <th>gameCreation</th>\n",
       "      <th>gameDuration</th>\n",
       "      <th>gameEndTimestamp</th>\n",
       "      <th>gameId</th>\n",
       "      <th>gameMode</th>\n",
       "      <th>gameName</th>\n",
       "      <th>gameStartTimestamp</th>\n",
       "      <th>gameType</th>\n",
       "      <th>gameVersion</th>\n",
       "      <th>mapId</th>\n",
       "      <th>...</th>\n",
       "      <th>trueDamageTaken</th>\n",
       "      <th>turretKills</th>\n",
       "      <th>turretTakedowns</th>\n",
       "      <th>turretsLost</th>\n",
       "      <th>unrealKills</th>\n",
       "      <th>visionScore</th>\n",
       "      <th>visionWardsBoughtInGame</th>\n",
       "      <th>wardsKilled</th>\n",
       "      <th>wardsPlaced</th>\n",
       "      <th>win</th>\n",
       "    </tr>\n",
       "  </thead>\n",
       "  <tbody>\n",
       "    <tr>\n",
       "      <th>0</th>\n",
       "      <td>1648812630000</td>\n",
       "      <td>970</td>\n",
       "      <td>1648813616016</td>\n",
       "      <td>5803019526</td>\n",
       "      <td>CLASSIC</td>\n",
       "      <td>teambuilder-match-5803019526</td>\n",
       "      <td>1648812645497</td>\n",
       "      <td>MATCHED_GAME</td>\n",
       "      <td>12.6.430.6775</td>\n",
       "      <td>11</td>\n",
       "      <td>...</td>\n",
       "      <td>65</td>\n",
       "      <td>0</td>\n",
       "      <td>0</td>\n",
       "      <td>0</td>\n",
       "      <td>0</td>\n",
       "      <td>30</td>\n",
       "      <td>9</td>\n",
       "      <td>5</td>\n",
       "      <td>17</td>\n",
       "      <td>True</td>\n",
       "    </tr>\n",
       "    <tr>\n",
       "      <th>1</th>\n",
       "      <td>1648810785000</td>\n",
       "      <td>976</td>\n",
       "      <td>1648811776409</td>\n",
       "      <td>5803085882</td>\n",
       "      <td>CLASSIC</td>\n",
       "      <td>teambuilder-match-5803085882</td>\n",
       "      <td>1648810799996</td>\n",
       "      <td>MATCHED_GAME</td>\n",
       "      <td>12.6.430.6775</td>\n",
       "      <td>11</td>\n",
       "      <td>...</td>\n",
       "      <td>2831</td>\n",
       "      <td>0</td>\n",
       "      <td>0</td>\n",
       "      <td>2</td>\n",
       "      <td>0</td>\n",
       "      <td>19</td>\n",
       "      <td>6</td>\n",
       "      <td>1</td>\n",
       "      <td>14</td>\n",
       "      <td>False</td>\n",
       "    </tr>\n",
       "    <tr>\n",
       "      <th>2</th>\n",
       "      <td>1648761974000</td>\n",
       "      <td>1442</td>\n",
       "      <td>1648763435969</td>\n",
       "      <td>5802380209</td>\n",
       "      <td>CLASSIC</td>\n",
       "      <td>teambuilder-match-5802380209</td>\n",
       "      <td>1648761993552</td>\n",
       "      <td>MATCHED_GAME</td>\n",
       "      <td>12.6.430.6775</td>\n",
       "      <td>11</td>\n",
       "      <td>...</td>\n",
       "      <td>1106</td>\n",
       "      <td>1</td>\n",
       "      <td>4</td>\n",
       "      <td>2</td>\n",
       "      <td>0</td>\n",
       "      <td>71</td>\n",
       "      <td>15</td>\n",
       "      <td>6</td>\n",
       "      <td>36</td>\n",
       "      <td>True</td>\n",
       "    </tr>\n",
       "    <tr>\n",
       "      <th>3</th>\n",
       "      <td>1648759752000</td>\n",
       "      <td>1352</td>\n",
       "      <td>1648761123399</td>\n",
       "      <td>5802324003</td>\n",
       "      <td>CLASSIC</td>\n",
       "      <td>teambuilder-match-5802324003</td>\n",
       "      <td>1648759771064</td>\n",
       "      <td>MATCHED_GAME</td>\n",
       "      <td>12.6.430.6775</td>\n",
       "      <td>11</td>\n",
       "      <td>...</td>\n",
       "      <td>827</td>\n",
       "      <td>0</td>\n",
       "      <td>2</td>\n",
       "      <td>3</td>\n",
       "      <td>0</td>\n",
       "      <td>51</td>\n",
       "      <td>13</td>\n",
       "      <td>5</td>\n",
       "      <td>28</td>\n",
       "      <td>True</td>\n",
       "    </tr>\n",
       "    <tr>\n",
       "      <th>4</th>\n",
       "      <td>1648758011000</td>\n",
       "      <td>1175</td>\n",
       "      <td>1648759218601</td>\n",
       "      <td>5802088187</td>\n",
       "      <td>CLASSIC</td>\n",
       "      <td>teambuilder-match-5802088187</td>\n",
       "      <td>1648758043381</td>\n",
       "      <td>MATCHED_GAME</td>\n",
       "      <td>12.6.430.6775</td>\n",
       "      <td>11</td>\n",
       "      <td>...</td>\n",
       "      <td>104</td>\n",
       "      <td>0</td>\n",
       "      <td>3</td>\n",
       "      <td>3</td>\n",
       "      <td>0</td>\n",
       "      <td>42</td>\n",
       "      <td>10</td>\n",
       "      <td>1</td>\n",
       "      <td>22</td>\n",
       "      <td>True</td>\n",
       "    </tr>\n",
       "  </tbody>\n",
       "</table>\n",
       "<p>5 rows × 117 columns</p>\n",
       "</div>"
      ],
      "text/plain": [
       "    gameCreation  gameDuration  gameEndTimestamp      gameId gameMode  \\\n",
       "0  1648812630000           970     1648813616016  5803019526  CLASSIC   \n",
       "1  1648810785000           976     1648811776409  5803085882  CLASSIC   \n",
       "2  1648761974000          1442     1648763435969  5802380209  CLASSIC   \n",
       "3  1648759752000          1352     1648761123399  5802324003  CLASSIC   \n",
       "4  1648758011000          1175     1648759218601  5802088187  CLASSIC   \n",
       "\n",
       "                       gameName  gameStartTimestamp      gameType  \\\n",
       "0  teambuilder-match-5803019526       1648812645497  MATCHED_GAME   \n",
       "1  teambuilder-match-5803085882       1648810799996  MATCHED_GAME   \n",
       "2  teambuilder-match-5802380209       1648761993552  MATCHED_GAME   \n",
       "3  teambuilder-match-5802324003       1648759771064  MATCHED_GAME   \n",
       "4  teambuilder-match-5802088187       1648758043381  MATCHED_GAME   \n",
       "\n",
       "     gameVersion  mapId  ... trueDamageTaken  turretKills  turretTakedowns  \\\n",
       "0  12.6.430.6775     11  ...              65            0                0   \n",
       "1  12.6.430.6775     11  ...            2831            0                0   \n",
       "2  12.6.430.6775     11  ...            1106            1                4   \n",
       "3  12.6.430.6775     11  ...             827            0                2   \n",
       "4  12.6.430.6775     11  ...             104            0                3   \n",
       "\n",
       "   turretsLost  unrealKills  visionScore  visionWardsBoughtInGame  \\\n",
       "0            0            0           30                        9   \n",
       "1            2            0           19                        6   \n",
       "2            2            0           71                       15   \n",
       "3            3            0           51                       13   \n",
       "4            3            0           42                       10   \n",
       "\n",
       "   wardsKilled  wardsPlaced    win  \n",
       "0            5           17   True  \n",
       "1            1           14  False  \n",
       "2            6           36   True  \n",
       "3            5           28   True  \n",
       "4            1           22   True  \n",
       "\n",
       "[5 rows x 117 columns]"
      ]
     },
     "execution_count": 4,
     "metadata": {},
     "output_type": "execute_result"
    }
   ],
   "source": [
    "print(\"Dataset of shapes : \", match_df.shape)\n",
    "match_df.head()"
   ]
  },
  {
   "cell_type": "markdown",
   "metadata": {},
   "source": [
    "#### 1.1 Exploratory Analysis\n",
    "\n",
    "In this part, we will explore the different feature's distribution. \n",
    "We will process in the following order : \n",
    "       \n",
    "    1 - We will take a look at missing values\n",
    "    2 - We will remove unnecessary features\n",
    "    3 - We will plot some basic histogrames and distribution\n",
    "    4 - We will proceed in a multivariate analysis of key features\n",
    "    5 - We will study the correlation between our features"
   ]
  },
  {
   "cell_type": "code",
   "execution_count": 5,
   "metadata": {
    "scrolled": true
   },
   "outputs": [
    {
     "name": "stdout",
     "output_type": "stream",
     "text": [
      "Column : gameCreation has 0 missing values\n",
      "Column : gameDuration has 0 missing values\n",
      "Column : gameEndTimestamp has 0 missing values\n",
      "Column : gameId has 0 missing values\n",
      "Column : gameMode has 0 missing values\n",
      "Column : gameName has 0 missing values\n",
      "Column : gameStartTimestamp has 0 missing values\n",
      "Column : gameType has 0 missing values\n",
      "Column : gameVersion has 0 missing values\n",
      "Column : mapId has 0 missing values\n",
      "Column : platformId has 0 missing values\n",
      "Column : queueId has 0 missing values\n",
      "Column : tournamentCode has 95228 missing values\n",
      "Column : assists has 0 missing values\n",
      "Column : baronKills has 0 missing values\n",
      "Column : bountyLevel has 0 missing values\n",
      "Column : champExperience has 0 missing values\n",
      "Column : champLevel has 0 missing values\n",
      "Column : championId has 0 missing values\n",
      "Column : championName has 0 missing values\n",
      "Column : championTransform has 0 missing values\n",
      "Column : consumablesPurchased has 0 missing values\n",
      "Column : damageDealtToBuildings has 0 missing values\n",
      "Column : damageDealtToObjectives has 0 missing values\n",
      "Column : damageDealtToTurrets has 0 missing values\n",
      "Column : damageSelfMitigated has 0 missing values\n",
      "Column : deaths has 0 missing values\n",
      "Column : detectorWardsPlaced has 0 missing values\n",
      "Column : doubleKills has 0 missing values\n",
      "Column : dragonKills has 0 missing values\n",
      "Column : firstBloodAssist has 0 missing values\n",
      "Column : firstBloodKill has 0 missing values\n",
      "Column : firstTowerAssist has 0 missing values\n",
      "Column : firstTowerKill has 0 missing values\n",
      "Column : gameEndedInEarlySurrender has 0 missing values\n",
      "Column : gameEndedInSurrender has 0 missing values\n",
      "Column : goldEarned has 0 missing values\n",
      "Column : goldSpent has 0 missing values\n",
      "Column : individualPosition has 0 missing values\n",
      "Column : inhibitorKills has 0 missing values\n",
      "Column : inhibitorTakedowns has 0 missing values\n",
      "Column : inhibitorsLost has 0 missing values\n",
      "Column : item0 has 0 missing values\n",
      "Column : item1 has 0 missing values\n",
      "Column : item2 has 0 missing values\n",
      "Column : item3 has 0 missing values\n",
      "Column : item4 has 0 missing values\n",
      "Column : item5 has 0 missing values\n",
      "Column : item6 has 0 missing values\n",
      "Column : itemsPurchased has 0 missing values\n",
      "Column : killingSprees has 0 missing values\n",
      "Column : kills has 0 missing values\n",
      "Column : lane has 0 missing values\n",
      "Column : largestCriticalStrike has 0 missing values\n",
      "Column : largestKillingSpree has 0 missing values\n",
      "Column : largestMultiKill has 0 missing values\n",
      "Column : longestTimeSpentLiving has 0 missing values\n",
      "Column : magicDamageDealt has 0 missing values\n",
      "Column : magicDamageDealtToChampions has 0 missing values\n",
      "Column : magicDamageTaken has 0 missing values\n",
      "Column : neutralMinionsKilled has 0 missing values\n",
      "Column : nexusKills has 0 missing values\n",
      "Column : nexusLost has 0 missing values\n",
      "Column : nexusTakedowns has 0 missing values\n",
      "Column : objectivesStolen has 0 missing values\n",
      "Column : objectivesStolenAssists has 0 missing values\n",
      "Column : participantId has 0 missing values\n",
      "Column : pentaKills has 0 missing values\n",
      "Column : physicalDamageDealt has 0 missing values\n",
      "Column : physicalDamageDealtToChampions has 0 missing values\n",
      "Column : physicalDamageTaken has 0 missing values\n",
      "Column : profileIcon has 0 missing values\n",
      "Column : puuid has 0 missing values\n",
      "Column : quadraKills has 0 missing values\n",
      "Column : riotIdName has 95228 missing values\n",
      "Column : riotIdTagline has 95228 missing values\n",
      "Column : role has 0 missing values\n",
      "Column : sightWardsBoughtInGame has 0 missing values\n",
      "Column : spell1Casts has 0 missing values\n",
      "Column : spell2Casts has 0 missing values\n",
      "Column : spell3Casts has 0 missing values\n",
      "Column : spell4Casts has 0 missing values\n",
      "Column : summoner1Casts has 0 missing values\n",
      "Column : summoner1Id has 0 missing values\n",
      "Column : summoner2Casts has 0 missing values\n",
      "Column : summoner2Id has 0 missing values\n",
      "Column : summonerId has 0 missing values\n",
      "Column : summonerLevel has 0 missing values\n",
      "Column : summonerName has 0 missing values\n",
      "Column : teamEarlySurrendered has 0 missing values\n",
      "Column : teamId has 0 missing values\n",
      "Column : teamPosition has 1458 missing values\n",
      "Column : timeCCingOthers has 0 missing values\n",
      "Column : timePlayed has 0 missing values\n",
      "Column : totalDamageDealt has 0 missing values\n",
      "Column : totalDamageDealtToChampions has 0 missing values\n",
      "Column : totalDamageShieldedOnTeammates has 0 missing values\n",
      "Column : totalDamageTaken has 0 missing values\n",
      "Column : totalHeal has 0 missing values\n",
      "Column : totalHealsOnTeammates has 0 missing values\n",
      "Column : totalMinionsKilled has 0 missing values\n",
      "Column : totalTimeCCDealt has 0 missing values\n",
      "Column : totalTimeSpentDead has 0 missing values\n",
      "Column : totalUnitsHealed has 0 missing values\n",
      "Column : tripleKills has 0 missing values\n",
      "Column : trueDamageDealt has 0 missing values\n",
      "Column : trueDamageDealtToChampions has 0 missing values\n",
      "Column : trueDamageTaken has 0 missing values\n",
      "Column : turretKills has 0 missing values\n",
      "Column : turretTakedowns has 0 missing values\n",
      "Column : turretsLost has 0 missing values\n",
      "Column : unrealKills has 0 missing values\n",
      "Column : visionScore has 0 missing values\n",
      "Column : visionWardsBoughtInGame has 0 missing values\n",
      "Column : wardsKilled has 0 missing values\n",
      "Column : wardsPlaced has 0 missing values\n",
      "Column : win has 0 missing values\n"
     ]
    }
   ],
   "source": [
    "# 1 - Missing values \n",
    "for col in match_df.columns: \n",
    "    print(f\"Column : {col} has {match_df[col].isna().sum()} missing values\")"
   ]
  },
  {
   "cell_type": "code",
   "execution_count": 6,
   "metadata": {},
   "outputs": [],
   "source": [
    "match_df = match_df.drop_duplicates()"
   ]
  },
  {
   "cell_type": "markdown",
   "metadata": {},
   "source": [
    " - riotIdTagline, riotIdName, tournamentCode are useless and do not carry relevant informations\n",
    " - We will try to replace the teamPosition's nan values with values from other features"
   ]
  },
  {
   "cell_type": "code",
   "execution_count": 7,
   "metadata": {},
   "outputs": [
    {
     "name": "stdout",
     "output_type": "stream",
     "text": [
      "riotIdTagline unique values :  [nan]\n",
      "riotIdName unique values :  [nan]\n",
      "teamPosition unique values :  ['UTILITY' 'BOTTOM' 'MIDDLE' 'TOP' 'JUNGLE' nan]\n",
      "tournamentCode unique values : [nan]\n"
     ]
    }
   ],
   "source": [
    "#### Focus on riotIdTagline, riotIdName, tournamentCode and teamPosition\n",
    "\n",
    "unique_riot_tagline = match_df[\"riotIdTagline\"].unique()\n",
    "print(\"riotIdTagline unique values : \", unique_riot_tagline) \n",
    "\n",
    "unique_riot_name = match_df[\"riotIdName\"].unique()\n",
    "print(\"riotIdName unique values : \", unique_riot_name) \n",
    "\n",
    "unique_team_position = match_df[\"teamPosition\"].unique()\n",
    "print(\"teamPosition unique values : \", unique_team_position) \n",
    "\n",
    "unique_tournamenet = match_df[\"tournamentCode\"].unique()\n",
    "print(\"tournamentCode unique values :\", unique_tournamenet)"
   ]
  },
  {
   "cell_type": "markdown",
   "metadata": {},
   "source": [
    "We would like to add a role to any player. \n",
    "We have 4 features to play with : "
   ]
  },
  {
   "cell_type": "code",
   "execution_count": 8,
   "metadata": {},
   "outputs": [
    {
     "name": "stdout",
     "output_type": "stream",
     "text": [
      "lane unique values : ['NONE' 'BOTTOM' 'JUNGLE' 'MIDDLE' 'TOP']\n",
      "role unique values : ['SUPPORT' 'SOLO' 'CARRY' 'NONE' 'DUO']\n",
      "teamPosition unique values : ['UTILITY' 'BOTTOM' 'MIDDLE' 'TOP' 'JUNGLE' nan]\n",
      "individualPosition unique values : ['UTILITY' 'BOTTOM' 'MIDDLE' 'TOP' 'JUNGLE' 'Invalid']\n"
     ]
    }
   ],
   "source": [
    "print(\"lane unique values :\", match_df[\"lane\"].unique())\n",
    "print(\"role unique values :\", match_df[\"role\"].unique())\n",
    "print(\"teamPosition unique values :\", match_df[\"teamPosition\"].unique())\n",
    "print(\"individualPosition unique values :\", match_df[\"individualPosition\"].unique())"
   ]
  },
  {
   "cell_type": "markdown",
   "metadata": {},
   "source": [
    "According to the api : \n",
    "    <i>\"Generally the recommendation is to use the teamPosition field over the individualPosition field.\"</i>"
   ]
  },
  {
   "cell_type": "code",
   "execution_count": 9,
   "metadata": {},
   "outputs": [
    {
     "data": {
      "text/plain": [
       "<matplotlib.axes._subplots.AxesSubplot at 0x1f110470108>"
      ]
     },
     "execution_count": 9,
     "metadata": {},
     "output_type": "execute_result"
    },
    {
     "data": {
      "image/png": "[encoded data removed]",
      "text/plain": [
       "<Figure size 432x288 with 1 Axes>"
      ]
     },
     "metadata": {
      "needs_background": "light"
     },
     "output_type": "display_data"
    }
   ],
   "source": [
    "match_df = match_df.dropna(subset=['teamPosition'])\n",
    "sns.histplot(match_df[\"teamPosition\"])"
   ]
  },
  {
   "cell_type": "code",
   "execution_count": 10,
   "metadata": {
    "scrolled": true
   },
   "outputs": [],
   "source": [
    "# match_df[match_df[\"teamPosition\"] == \"BOTTOM\"][\"role\"].value_counts()\n",
    "# match_df = match_df.dropna(subset=['teamPosition'])\n",
    "# match_df[\"teamPosition\"] = np.where(match_df[\"teamPosition\"] == \"UTILITY\", match_df[\"role\"], match_df[\"teamPosition\"])\n",
    "\n",
    "# print(\"Unique values after replacement : \", match_df[\"teamPosition\"].value_counts())"
   ]
  },
  {
   "cell_type": "code",
   "execution_count": 11,
   "metadata": {},
   "outputs": [
    {
     "name": "stdout",
     "output_type": "stream",
     "text": [
      "Dataset shapes after removal :  (93099, 98)\n"
     ]
    }
   ],
   "source": [
    "# 2 - Remove irrelevant features : we now have a total of 109 features\n",
    "to_remove = [\n",
    "    \"gameId\", \"gameMode\", \"gameName\", \"gameType\",\n",
    "    \"mapId\", \"puuid\", \n",
    "    \"riotIdTagline\", \"riotIdName\", \n",
    "    \"championId\", \"champExperience\", \"role\", \"individualPosition\", \"lane\", \n",
    "    \"summonerId\", \"summonerName\", \"championName\",\"queueId\", \"participantId\", \n",
    "    \"profileIcon\"\n",
    "]\n",
    "# match_df.drop([\"role\", \"individualPosition\", \"lane\"], axis=1, inplace=True)\n",
    "# match_df.drop(\"summonerId\", axis=1, inplace=True)\n",
    "# match_df.drop(\"summonerName\", axis=1, inplace=True)\n",
    "# match_df.drop(\"championName\", axis=1, inplace=True)\n",
    "# match_df.drop([\"queueId\", \"participantId\", \"profileIcon\"], axis=1, inplace=True)\n",
    "\n",
    "\n",
    "match_df = match_df.drop(to_remove, axis=1)\n",
    "print(\"Dataset shapes after removal : \", match_df.shape)"
   ]
  },
  {
   "cell_type": "markdown",
   "metadata": {},
   "source": [
    "#### converting from seconds to min"
   ]
  },
  {
   "cell_type": "code",
   "execution_count": 12,
   "metadata": {},
   "outputs": [],
   "source": [
    "match_df[\"gameDuration\"] = match_df[\"gameDuration\"] / 60 "
   ]
  },
  {
   "cell_type": "code",
   "execution_count": 13,
   "metadata": {},
   "outputs": [
    {
     "data": {
      "text/html": [
       "<div>\n",
       "<style scoped>\n",
       "    .dataframe tbody tr th:only-of-type {\n",
       "        vertical-align: middle;\n",
       "    }\n",
       "\n",
       "    .dataframe tbody tr th {\n",
       "        vertical-align: top;\n",
       "    }\n",
       "\n",
       "    .dataframe thead th {\n",
       "        text-align: right;\n",
       "    }\n",
       "</style>\n",
       "<table border=\"1\" class=\"dataframe\">\n",
       "  <thead>\n",
       "    <tr style=\"text-align: right;\">\n",
       "      <th></th>\n",
       "      <th>count</th>\n",
       "      <th>mean</th>\n",
       "      <th>std</th>\n",
       "      <th>min</th>\n",
       "      <th>25%</th>\n",
       "      <th>50%</th>\n",
       "      <th>75%</th>\n",
       "      <th>max</th>\n",
       "    </tr>\n",
       "    <tr>\n",
       "      <th>win</th>\n",
       "      <th></th>\n",
       "      <th></th>\n",
       "      <th></th>\n",
       "      <th></th>\n",
       "      <th></th>\n",
       "      <th></th>\n",
       "      <th></th>\n",
       "      <th></th>\n",
       "    </tr>\n",
       "  </thead>\n",
       "  <tbody>\n",
       "    <tr>\n",
       "      <th>False</th>\n",
       "      <td>44027.0</td>\n",
       "      <td>25.764809</td>\n",
       "      <td>6.343523</td>\n",
       "      <td>3.166667</td>\n",
       "      <td>21.550000</td>\n",
       "      <td>25.633333</td>\n",
       "      <td>29.916667</td>\n",
       "      <td>55.15</td>\n",
       "    </tr>\n",
       "    <tr>\n",
       "      <th>True</th>\n",
       "      <td>49072.0</td>\n",
       "      <td>25.246280</td>\n",
       "      <td>6.306076</td>\n",
       "      <td>3.166667</td>\n",
       "      <td>20.966667</td>\n",
       "      <td>25.100000</td>\n",
       "      <td>29.400000</td>\n",
       "      <td>55.10</td>\n",
       "    </tr>\n",
       "  </tbody>\n",
       "</table>\n",
       "</div>"
      ],
      "text/plain": [
       "         count       mean       std       min        25%        50%  \\\n",
       "win                                                                   \n",
       "False  44027.0  25.764809  6.343523  3.166667  21.550000  25.633333   \n",
       "True   49072.0  25.246280  6.306076  3.166667  20.966667  25.100000   \n",
       "\n",
       "             75%    max  \n",
       "win                      \n",
       "False  29.916667  55.15  \n",
       "True   29.400000  55.10  "
      ]
     },
     "execution_count": 13,
     "metadata": {},
     "output_type": "execute_result"
    }
   ],
   "source": [
    "match_df.groupby(\"win\")[\"gameDuration\"].describe()"
   ]
  },
  {
   "cell_type": "code",
   "execution_count": 14,
   "metadata": {},
   "outputs": [
    {
     "data": {
      "text/plain": [
       "<matplotlib.axes._subplots.AxesSubplot at 0x1f110eac708>"
      ]
     },
     "execution_count": 14,
     "metadata": {},
     "output_type": "execute_result"
    },
    {
     "data": {
      "image/png": "[encoded data removed]",
      "text/plain": [
       "<Figure size 432x288 with 1 Axes>"
      ]
     },
     "metadata": {
      "needs_background": "light"
     },
     "output_type": "display_data"
    }
   ],
   "source": [
    "sns.violinplot(y=match_df[\"gameDuration\"], x=match_df[\"win\"])"
   ]
  },
  {
   "cell_type": "markdown",
   "metadata": {},
   "source": [
    "#### Study of the distribution of the \"Win\" variable \n"
   ]
  },
  {
   "cell_type": "code",
   "execution_count": 15,
   "metadata": {},
   "outputs": [
    {
     "name": "stdout",
     "output_type": "stream",
     "text": [
      "unique values for the win feature  [ True False]\n"
     ]
    }
   ],
   "source": [
    "print(\"unique values for the win feature \", match_df[\"win\"].unique())"
   ]
  },
  {
   "cell_type": "code",
   "execution_count": 16,
   "metadata": {},
   "outputs": [],
   "source": [
    "# let's convert everything to the same type \n",
    "# depending on the game version, we might have True or Win in a case of victory\n",
    "# we convert everything to 1/0\n",
    "match_df[\"win\"] = match_df[\"win\"].astype(\"bool\")\n",
    "match_df[\"win\"] = match_df[\"win\"].astype(\"int\")"
   ]
  },
  {
   "cell_type": "code",
   "execution_count": 17,
   "metadata": {},
   "outputs": [
    {
     "name": "stdout",
     "output_type": "stream",
     "text": [
      "Win rate over the dataset : 52.71 % \n",
      "Loose rate over the dataset : 47.29 %\n"
     ]
    },
    {
     "data": {
      "image/png": "[encoded data removed]",
      "text/plain": [
       "<Figure size 432x288 with 1 Axes>"
      ]
     },
     "metadata": {
      "needs_background": "light"
     },
     "output_type": "display_data"
    }
   ],
   "source": [
    "sns.histplot(match_df[\"win\"], bins=2)\n",
    "plt.xticks([0, 1])\n",
    "plt.title(\"Distribution of Win\")\n",
    "win_frq, loose_frq = match_df[\"win\"].value_counts(True)\n",
    "print(f\"Win rate over the dataset : {win_frq * 100:.2f} % \")\n",
    "print(f\"Loose rate over the dataset : {loose_frq * 100:.2f} %\")\n",
    "plt.show()"
   ]
  },
  {
   "cell_type": "markdown",
   "metadata": {},
   "source": [
    "#### Study of kills/deaths/assists"
   ]
  },
  {
   "cell_type": "code",
   "execution_count": 18,
   "metadata": {
    "scrolled": true
   },
   "outputs": [
    {
     "data": {
      "text/plain": [
       "<matplotlib.axes._subplots.AxesSubplot at 0x1f1114d1848>"
      ]
     },
     "execution_count": 18,
     "metadata": {},
     "output_type": "execute_result"
    },
    {
     "data": {
      "image/png": "[encoded data removed]",
      "text/plain": [
       "<Figure size 1080x360 with 3 Axes>"
      ]
     },
     "metadata": {
      "needs_background": "light"
     },
     "output_type": "display_data"
    }
   ],
   "source": [
    "f, ax = plt.subplots(1, 3, figsize=(15,5))\n",
    "sns.histplot(match_df, x=\"kills\", bins=10, ax=ax[0], hue=\"win\")\n",
    "sns.histplot(match_df,x=\"assists\", bins=10, ax=ax[1], hue=\"win\")\n",
    "sns.histplot(match_df,x=\"deaths\", bins=10, ax=ax[2], hue=\"win\")"
   ]
  },
  {
   "cell_type": "markdown",
   "metadata": {},
   "source": [
    "win regarding kill streaks"
   ]
  },
  {
   "cell_type": "code",
   "execution_count": 19,
   "metadata": {},
   "outputs": [
    {
     "data": {
      "image/png": "[encoded data removed]",
      "text/plain": [
       "<Figure size 720x720 with 4 Axes>"
      ]
     },
     "metadata": {
      "needs_background": "light"
     },
     "output_type": "display_data"
    }
   ],
   "source": [
    "f, ax = plt.subplots(2,2, figsize=(10,10))\n",
    "sns.histplot(match_df, x=\"doubleKills\", bins=4, ax=ax[0, 0], hue=\"win\", element=\"step\")\n",
    "sns.histplot(match_df, x=\"tripleKills\", bins=4, ax=ax[0,1], hue=\"win\", element=\"step\")\n",
    "sns.histplot(match_df, x=\"quadraKills\", bins=4, ax=ax[1,0], hue=\"win\", element=\"step\")\n",
    "sns.histplot(match_df, x=\"pentaKills\",ax=ax[1,1], hue=\"win\", element=\"step\")\n",
    "plt.show()"
   ]
  },
  {
   "cell_type": "markdown",
   "metadata": {},
   "source": [
    "### There is a clear correlation between the streaks and the victory"
   ]
  },
  {
   "cell_type": "code",
   "execution_count": 20,
   "metadata": {},
   "outputs": [
    {
     "data": {
      "text/plain": [
       "Text(0.5, 1.0, 'doubleKills per game state')"
      ]
     },
     "execution_count": 20,
     "metadata": {},
     "output_type": "execute_result"
    },
    {
     "data": {
      "image/png": "[encoded data removed]",
      "text/plain": [
       "<Figure size 432x288 with 1 Axes>"
      ]
     },
     "metadata": {
      "needs_background": "light"
     },
     "output_type": "display_data"
    }
   ],
   "source": [
    "streak_data = match_df.groupby(\"win\")[[\"doubleKills\", \"tripleKills\", \"quadraKills\", \"pentaKills\"]].sum().reset_index()\n",
    "sns.barplot(data=streak_data, y=\"doubleKills\", x=\"win\")\n",
    "plt.title(\"doubleKills per game state\")"
   ]
  },
  {
   "cell_type": "code",
   "execution_count": 21,
   "metadata": {},
   "outputs": [
    {
     "data": {
      "image/png": "[encoded data removed]",
      "text/plain": [
       "<Figure size 432x288 with 1 Axes>"
      ]
     },
     "metadata": {
      "needs_background": "light"
     },
     "output_type": "display_data"
    },
    {
     "data": {
      "image/png": "[encoded data removed]",
      "text/plain": [
       "<Figure size 432x288 with 1 Axes>"
      ]
     },
     "metadata": {
      "needs_background": "light"
     },
     "output_type": "display_data"
    },
    {
     "data": {
      "image/png": "[encoded data removed]",
      "text/plain": [
       "<Figure size 432x288 with 1 Axes>"
      ]
     },
     "metadata": {
      "needs_background": "light"
     },
     "output_type": "display_data"
    }
   ],
   "source": [
    "sns.barplot(data=streak_data, y=\"tripleKills\", x=\"win\")\n",
    "plt.title(\"tripleKills per game state\")\n",
    "plt.show()\n",
    "\n",
    "sns.barplot(data=streak_data, y=\"quadraKills\", x=\"win\")\n",
    "plt.title(\"quadraKills per game state\")\n",
    "plt.show()\n",
    "\n",
    "sns.barplot(data=streak_data, y=\"pentaKills\", x=\"win\")\n",
    "plt.title(\"pentaKills per game state\")\n",
    "plt.show()"
   ]
  },
  {
   "cell_type": "markdown",
   "metadata": {},
   "source": [
    "#### game duration distribution"
   ]
  },
  {
   "cell_type": "code",
   "execution_count": 22,
   "metadata": {},
   "outputs": [
    {
     "data": {
      "text/plain": [
       "<seaborn.axisgrid.FacetGrid at 0x1f111a04a08>"
      ]
     },
     "execution_count": 22,
     "metadata": {},
     "output_type": "execute_result"
    },
    {
     "data": {
      "image/png": "[encoded data removed]",
      "text/plain": [
       "<Figure size 402.375x360 with 1 Axes>"
      ]
     },
     "metadata": {
      "needs_background": "light"
     },
     "output_type": "display_data"
    }
   ],
   "source": [
    "sns.displot(match_df, x=\"gameDuration\", hue=\"win\")"
   ]
  },
  {
   "cell_type": "markdown",
   "metadata": {},
   "source": [
    "#### Study of championName"
   ]
  },
  {
   "cell_type": "code",
   "execution_count": 23,
   "metadata": {},
   "outputs": [
    {
     "ename": "KeyError",
     "evalue": "'championName'",
     "output_type": "error",
     "traceback": [
      "\u001b[1;31m---------------------------------------------------------------------------\u001b[0m",
      "\u001b[1;31mKeyError\u001b[0m                                  Traceback (most recent call last)",
      "\u001b[1;32m~\\Anaconda3\\lib\\site-packages\\pandas\\core\\indexes\\base.py\u001b[0m in \u001b[0;36mget_loc\u001b[1;34m(self, key, method, tolerance)\u001b[0m\n\u001b[0;32m   3360\u001b[0m             \u001b[1;32mtry\u001b[0m\u001b[1;33m:\u001b[0m\u001b[1;33m\u001b[0m\u001b[1;33m\u001b[0m\u001b[0m\n\u001b[1;32m-> 3361\u001b[1;33m                 \u001b[1;32mreturn\u001b[0m \u001b[0mself\u001b[0m\u001b[1;33m.\u001b[0m\u001b[0m_engine\u001b[0m\u001b[1;33m.\u001b[0m\u001b[0mget_loc\u001b[0m\u001b[1;33m(\u001b[0m\u001b[0mcasted_key\u001b[0m\u001b[1;33m)\u001b[0m\u001b[1;33m\u001b[0m\u001b[1;33m\u001b[0m\u001b[0m\n\u001b[0m\u001b[0;32m   3362\u001b[0m             \u001b[1;32mexcept\u001b[0m \u001b[0mKeyError\u001b[0m \u001b[1;32mas\u001b[0m \u001b[0merr\u001b[0m\u001b[1;33m:\u001b[0m\u001b[1;33m\u001b[0m\u001b[1;33m\u001b[0m\u001b[0m\n",
      "\u001b[1;32m~\\Anaconda3\\lib\\site-packages\\pandas\\_libs\\index.pyx\u001b[0m in \u001b[0;36mpandas._libs.index.IndexEngine.get_loc\u001b[1;34m()\u001b[0m\n",
      "\u001b[1;32m~\\Anaconda3\\lib\\site-packages\\pandas\\_libs\\index.pyx\u001b[0m in \u001b[0;36mpandas._libs.index.IndexEngine.get_loc\u001b[1;34m()\u001b[0m\n",
      "\u001b[1;32mpandas\\_libs\\hashtable_class_helper.pxi\u001b[0m in \u001b[0;36mpandas._libs.hashtable.PyObjectHashTable.get_item\u001b[1;34m()\u001b[0m\n",
      "\u001b[1;32mpandas\\_libs\\hashtable_class_helper.pxi\u001b[0m in \u001b[0;36mpandas._libs.hashtable.PyObjectHashTable.get_item\u001b[1;34m()\u001b[0m\n",
      "\u001b[1;31mKeyError\u001b[0m: 'championName'",
      "\nThe above exception was the direct cause of the following exception:\n",
      "\u001b[1;31mKeyError\u001b[0m                                  Traceback (most recent call last)",
      "\u001b[1;32m<ipython-input-23-d4c9e5f55cbb>\u001b[0m in \u001b[0;36m<module>\u001b[1;34m\u001b[0m\n\u001b[0;32m      1\u001b[0m \u001b[0mplt\u001b[0m\u001b[1;33m.\u001b[0m\u001b[0mfigure\u001b[0m\u001b[1;33m(\u001b[0m\u001b[0mfigsize\u001b[0m\u001b[1;33m=\u001b[0m\u001b[1;33m(\u001b[0m\u001b[1;36m50\u001b[0m\u001b[1;33m,\u001b[0m\u001b[1;36m10\u001b[0m\u001b[1;33m)\u001b[0m\u001b[1;33m)\u001b[0m\u001b[1;33m\u001b[0m\u001b[1;33m\u001b[0m\u001b[0m\n\u001b[1;32m----> 2\u001b[1;33m \u001b[0mchamp_dist\u001b[0m \u001b[1;33m=\u001b[0m \u001b[0mmatch_df\u001b[0m\u001b[1;33m[\u001b[0m\u001b[1;34m\"championName\"\u001b[0m\u001b[1;33m]\u001b[0m\u001b[1;33m.\u001b[0m\u001b[0mvalue_counts\u001b[0m\u001b[1;33m(\u001b[0m\u001b[1;33m)\u001b[0m\u001b[1;33m.\u001b[0m\u001b[0mreset_index\u001b[0m\u001b[1;33m(\u001b[0m\u001b[1;33m)\u001b[0m\u001b[1;33m\u001b[0m\u001b[1;33m\u001b[0m\u001b[0m\n\u001b[0m\u001b[0;32m      3\u001b[0m \u001b[0mchamp_dist\u001b[0m \u001b[1;33m=\u001b[0m \u001b[0mchamp_dist\u001b[0m\u001b[1;33m.\u001b[0m\u001b[0msort_values\u001b[0m\u001b[1;33m(\u001b[0m\u001b[1;34m\"index\"\u001b[0m\u001b[1;33m)\u001b[0m\u001b[1;33m\u001b[0m\u001b[1;33m\u001b[0m\u001b[0m\n\u001b[0;32m      4\u001b[0m \u001b[0mplt\u001b[0m\u001b[1;33m.\u001b[0m\u001b[0mxticks\u001b[0m\u001b[1;33m(\u001b[0m\u001b[0mrotation\u001b[0m\u001b[1;33m=\u001b[0m\u001b[1;36m90\u001b[0m\u001b[1;33m)\u001b[0m\u001b[1;33m\u001b[0m\u001b[1;33m\u001b[0m\u001b[0m\n\u001b[0;32m      5\u001b[0m \u001b[0msns\u001b[0m\u001b[1;33m.\u001b[0m\u001b[0mbarplot\u001b[0m\u001b[1;33m(\u001b[0m\u001b[0mx\u001b[0m\u001b[1;33m=\u001b[0m\u001b[0mchamp_dist\u001b[0m\u001b[1;33m[\u001b[0m\u001b[1;34m\"index\"\u001b[0m\u001b[1;33m]\u001b[0m\u001b[1;33m,\u001b[0m \u001b[0my\u001b[0m\u001b[1;33m=\u001b[0m\u001b[0mchamp_dist\u001b[0m\u001b[1;33m[\u001b[0m\u001b[1;34m\"championName\"\u001b[0m\u001b[1;33m]\u001b[0m\u001b[1;33m)\u001b[0m\u001b[1;33m\u001b[0m\u001b[1;33m\u001b[0m\u001b[0m\n",
      "\u001b[1;32m~\\Anaconda3\\lib\\site-packages\\pandas\\core\\frame.py\u001b[0m in \u001b[0;36m__getitem__\u001b[1;34m(self, key)\u001b[0m\n\u001b[0;32m   3456\u001b[0m             \u001b[1;32mif\u001b[0m \u001b[0mself\u001b[0m\u001b[1;33m.\u001b[0m\u001b[0mcolumns\u001b[0m\u001b[1;33m.\u001b[0m\u001b[0mnlevels\u001b[0m \u001b[1;33m>\u001b[0m \u001b[1;36m1\u001b[0m\u001b[1;33m:\u001b[0m\u001b[1;33m\u001b[0m\u001b[1;33m\u001b[0m\u001b[0m\n\u001b[0;32m   3457\u001b[0m                 \u001b[1;32mreturn\u001b[0m \u001b[0mself\u001b[0m\u001b[1;33m.\u001b[0m\u001b[0m_getitem_multilevel\u001b[0m\u001b[1;33m(\u001b[0m\u001b[0mkey\u001b[0m\u001b[1;33m)\u001b[0m\u001b[1;33m\u001b[0m\u001b[1;33m\u001b[0m\u001b[0m\n\u001b[1;32m-> 3458\u001b[1;33m             \u001b[0mindexer\u001b[0m \u001b[1;33m=\u001b[0m \u001b[0mself\u001b[0m\u001b[1;33m.\u001b[0m\u001b[0mcolumns\u001b[0m\u001b[1;33m.\u001b[0m\u001b[0mget_loc\u001b[0m\u001b[1;33m(\u001b[0m\u001b[0mkey\u001b[0m\u001b[1;33m)\u001b[0m\u001b[1;33m\u001b[0m\u001b[1;33m\u001b[0m\u001b[0m\n\u001b[0m\u001b[0;32m   3459\u001b[0m             \u001b[1;32mif\u001b[0m \u001b[0mis_integer\u001b[0m\u001b[1;33m(\u001b[0m\u001b[0mindexer\u001b[0m\u001b[1;33m)\u001b[0m\u001b[1;33m:\u001b[0m\u001b[1;33m\u001b[0m\u001b[1;33m\u001b[0m\u001b[0m\n\u001b[0;32m   3460\u001b[0m                 \u001b[0mindexer\u001b[0m \u001b[1;33m=\u001b[0m \u001b[1;33m[\u001b[0m\u001b[0mindexer\u001b[0m\u001b[1;33m]\u001b[0m\u001b[1;33m\u001b[0m\u001b[1;33m\u001b[0m\u001b[0m\n",
      "\u001b[1;32m~\\Anaconda3\\lib\\site-packages\\pandas\\core\\indexes\\base.py\u001b[0m in \u001b[0;36mget_loc\u001b[1;34m(self, key, method, tolerance)\u001b[0m\n\u001b[0;32m   3361\u001b[0m                 \u001b[1;32mreturn\u001b[0m \u001b[0mself\u001b[0m\u001b[1;33m.\u001b[0m\u001b[0m_engine\u001b[0m\u001b[1;33m.\u001b[0m\u001b[0mget_loc\u001b[0m\u001b[1;33m(\u001b[0m\u001b[0mcasted_key\u001b[0m\u001b[1;33m)\u001b[0m\u001b[1;33m\u001b[0m\u001b[1;33m\u001b[0m\u001b[0m\n\u001b[0;32m   3362\u001b[0m             \u001b[1;32mexcept\u001b[0m \u001b[0mKeyError\u001b[0m \u001b[1;32mas\u001b[0m \u001b[0merr\u001b[0m\u001b[1;33m:\u001b[0m\u001b[1;33m\u001b[0m\u001b[1;33m\u001b[0m\u001b[0m\n\u001b[1;32m-> 3363\u001b[1;33m                 \u001b[1;32mraise\u001b[0m \u001b[0mKeyError\u001b[0m\u001b[1;33m(\u001b[0m\u001b[0mkey\u001b[0m\u001b[1;33m)\u001b[0m \u001b[1;32mfrom\u001b[0m \u001b[0merr\u001b[0m\u001b[1;33m\u001b[0m\u001b[1;33m\u001b[0m\u001b[0m\n\u001b[0m\u001b[0;32m   3364\u001b[0m \u001b[1;33m\u001b[0m\u001b[0m\n\u001b[0;32m   3365\u001b[0m         \u001b[1;32mif\u001b[0m \u001b[0mis_scalar\u001b[0m\u001b[1;33m(\u001b[0m\u001b[0mkey\u001b[0m\u001b[1;33m)\u001b[0m \u001b[1;32mand\u001b[0m \u001b[0misna\u001b[0m\u001b[1;33m(\u001b[0m\u001b[0mkey\u001b[0m\u001b[1;33m)\u001b[0m \u001b[1;32mand\u001b[0m \u001b[1;32mnot\u001b[0m \u001b[0mself\u001b[0m\u001b[1;33m.\u001b[0m\u001b[0mhasnans\u001b[0m\u001b[1;33m:\u001b[0m\u001b[1;33m\u001b[0m\u001b[1;33m\u001b[0m\u001b[0m\n",
      "\u001b[1;31mKeyError\u001b[0m: 'championName'"
     ]
    },
    {
     "data": {
      "text/plain": [
       "<Figure size 3600x720 with 0 Axes>"
      ]
     },
     "metadata": {},
     "output_type": "display_data"
    }
   ],
   "source": [
    "plt.figure(figsize=(50,10))\n",
    "champ_dist = match_df[\"championName\"].value_counts().reset_index()\n",
    "champ_dist = champ_dist.sort_values(\"index\")\n",
    "plt.xticks(rotation=90)\n",
    "sns.barplot(x=champ_dist[\"index\"], y=champ_dist[\"championName\"])"
   ]
  },
  {
   "cell_type": "markdown",
   "metadata": {},
   "source": [
    "#### win rate per champion"
   ]
  },
  {
   "cell_type": "code",
   "execution_count": null,
   "metadata": {},
   "outputs": [],
   "source": [
    "match_df[match_df[\"championName\"] == \"Maokai\"][\"win\"].value_counts()\n",
    "match_df[match_df[\"championName\"] == \"Janna\"][[\"turretKills\", \"turretTakedowns\"]]"
   ]
  },
  {
   "cell_type": "code",
   "execution_count": null,
   "metadata": {},
   "outputs": [],
   "source": [
    "plt.figure(figsize=(50,10))\n",
    "winrate_champ = match_df.groupby(\"championName\")[\"win\"].mean().reset_index()\n",
    "winrate_champ = winrate_champ.sort_values(\"win\")\n",
    "plt.xticks(rotation=90)\n",
    "sns.barplot(data=winrate_champ, x=\"championName\", y=\"win\")"
   ]
  },
  {
   "cell_type": "markdown",
   "metadata": {},
   "source": [
    "### Observations regarding the variable \"kills\", \"deaths\", \"assists\" : \n",
    "\n",
    "#### Clear and obvious correlation : \n",
    "\n",
    "We observe that the more kills and assits, and the least deaths you have during a game, for any particular teamPosition, the more likely you are to win the game. Even if it sounds obvious, the following distribution reinforce our hypothesis"
   ]
  },
  {
   "cell_type": "code",
   "execution_count": null,
   "metadata": {
    "scrolled": true
   },
   "outputs": [],
   "source": [
    "sns.displot(match_df, x=\"kills\",  ax=ax[0], hue=\"win\", col=\"teamPosition\")"
   ]
  },
  {
   "cell_type": "code",
   "execution_count": null,
   "metadata": {},
   "outputs": [],
   "source": [
    "sns.displot(match_df, x=\"deaths\",  ax=ax[0], hue=\"win\", col=\"teamPosition\")"
   ]
  },
  {
   "cell_type": "code",
   "execution_count": null,
   "metadata": {
    "scrolled": true
   },
   "outputs": [],
   "source": [
    "sns.displot(match_df, x=\"assists\",  ax=ax[0], hue=\"win\", col=\"teamPosition\")"
   ]
  },
  {
   "cell_type": "markdown",
   "metadata": {},
   "source": [
    "### Observations regarding the variable \"GoldEearned\" : \n",
    "\n",
    "#### Clear and obvious correlation (again) : \n",
    "\n",
    "We observe that the more gold you earn during the game, the more likely you are to win the game (obviously). Note that the fluctuation below 2500 are probably due to a match ended in surrender"
   ]
  },
  {
   "cell_type": "code",
   "execution_count": null,
   "metadata": {},
   "outputs": [],
   "source": [
    "sns.displot(match_df, x=\"goldEarned\",  ax=ax[0], hue=\"win\", col=\"teamPosition\")"
   ]
  },
  {
   "cell_type": "markdown",
   "metadata": {},
   "source": [
    "### Analysis of objectives : \n",
    "\n",
    "#### We would like to answer the following questions : \n",
    "\n",
    "- <strong>Do players who use more visions tend to avoid being killed ?</strong> \n",
    "    <br><i>-> hypothesis : Having vision allows you to avoid being traped by your enemies</i>\n",
    "<br>\n",
    "\n",
    "\n",
    "- <strong>Does the steal of objectives strongly correlates with the victory ?</strong> \n",
    "    <br><i>-> hypothesis : As the steal of objectives play a key role in the mental of the ennemy team, and as it provides golds and additional enhancement, we believe that the correlation is strong and positive</i>\n",
    "    <br><strong>Result : </strong> The steal of objectives is a rare phenomenon. But when it happens, it is more likely for the player to win the game. We see that on the 14 games where players stole 2 objectives, they constantly end up in winnin the game \n",
    "<br>\n",
    "\n",
    "- <strong>What is the impact of vision in objective stealing ?</strong> \n",
    "    <br><i>-> hypothesis : We believe that vision wards (item that allow the user to have vision on the map in a particular zone) have an impact in the ability of a team to steal objectives</i>\n",
    "    <br><strong>Result : </strong>We cannot say anything regarding the relation between the steal of objectives and the visionScore. Future work involving the global team stats such as number of objectives per team will probably consider visionScore as a crucial element\n",
    "<br>\n",
    "\n",
    "\n",
    "- <strong>Do players contributing to the very first kill are more likely to win the game ?</strong> \n",
    "    <br><i>-> hypothesis : We believe that taking the first kill of the game brings you confidence and put your team in a good state of mind</i>\n",
    "    <br><strong>Result : </strong>Taking the first kill indeed increases the probability of a player to win the match. It is still true for helping a mate taking the first kill of the match\n",
    "<br>\n",
    "\n",
    "        "
   ]
  },
  {
   "cell_type": "markdown",
   "metadata": {},
   "source": [
    "Distribution of the vision score and its impact on the victory: \n",
    "\n",
    "Observations : The Utility teamPosition can be seen as a support. The support has items allowing him to use special vision items, more times than other roles. The distributions of the visionScore for a support, conditioned by the victory, are very similar. "
   ]
  },
  {
   "cell_type": "code",
   "execution_count": null,
   "metadata": {},
   "outputs": [],
   "source": [
    "sns.displot(match_df, x=\"visionScore\",  ax=ax[0], hue=\"win\", col=\"teamPosition\")"
   ]
  },
  {
   "cell_type": "markdown",
   "metadata": {},
   "source": [
    "<strong>Kolmogorov-Smirnov godness of fitting between visionScore_win and visionScore_loss </strong>. \n",
    "The null hypothesis is that the two distributions are identical, F(x)=G(x) for all x; the alternative is that they are not identical.\n",
    "If the KS statistic is small or the p-value is high, then we cannot reject the null hypothesis in favor of the alternative.\n",
    "\n",
    "\n",
    "\n",
    "#### The p-value is lower than 0.05, thus it is very likely that both variables have a different distribution :\n",
    "\n",
    "The win/loss impacts the distirbution of the visionScore. We cannot neglect the impact of the vision score of the Support."
   ]
  },
  {
   "cell_type": "code",
   "execution_count": null,
   "metadata": {},
   "outputs": [],
   "source": [
    "from scipy.stats import ks_2samp, zscore\n",
    "\n",
    "visionScore_win = match_df[match_df[\"win\"] == 1][\"visionScore\"].values\n",
    "visionScore_loss = match_df[match_df[\"win\"] == 0][\"visionScore\"].values\n",
    "\n",
    "d, p_value = ks_2samp(visionScore_win, visionScore_loss)\n",
    "print(\"distance : \",d)\n",
    "print(\"p value : \", p_value)"
   ]
  },
  {
   "cell_type": "markdown",
   "metadata": {},
   "source": [
    "#### vision and objectivesStolen"
   ]
  },
  {
   "cell_type": "code",
   "execution_count": null,
   "metadata": {},
   "outputs": [],
   "source": [
    "sns.boxplot(data=match_df, y=\"visionScore\", x=\"objectivesStolen\", hue=\"win\")"
   ]
  },
  {
   "cell_type": "markdown",
   "metadata": {},
   "source": [
    "#### vision and objectivesStolenAssists"
   ]
  },
  {
   "cell_type": "code",
   "execution_count": null,
   "metadata": {
    "scrolled": true
   },
   "outputs": [],
   "source": [
    "sns.boxplot(data=match_df, y=\"visionScore\", x=\"objectivesStolenAssists\", hue=\"win\")"
   ]
  },
  {
   "cell_type": "markdown",
   "metadata": {},
   "source": [
    "#### It is a rare phenomenon for players to steal objectives"
   ]
  },
  {
   "cell_type": "code",
   "execution_count": null,
   "metadata": {},
   "outputs": [],
   "source": [
    "print(\"ObjectiveStolen value counts : \", match_df[\"objectivesStolen\"].value_counts())"
   ]
  },
  {
   "cell_type": "code",
   "execution_count": null,
   "metadata": {},
   "outputs": [],
   "source": [
    "print(\"ObjectiveStolen value counts : \", match_df[\"objectivesStolenAssists\"].value_counts())"
   ]
  },
  {
   "cell_type": "code",
   "execution_count": null,
   "metadata": {},
   "outputs": [],
   "source": [
    "print(\"Win rate per Objective Stolen\")\n",
    "print(match_df.groupby(\"objectivesStolen\")[\"win\"].mean())\n",
    "\n",
    "print(\"Objective Stolen Assist\")\n",
    "print(match_df.groupby(\"objectivesStolenAssists\")[\"win\"].mean())"
   ]
  },
  {
   "cell_type": "markdown",
   "metadata": {},
   "source": [
    "### Does the first blood impacts the victory ? \n",
    "\n",
    "<strong>hypothesis : </strong> It might. Indeed, players who killed the first person in the game might gain confidence. On the other hand, the team victim of the first blood, might start on a fragile basis "
   ]
  },
  {
   "cell_type": "code",
   "execution_count": null,
   "metadata": {},
   "outputs": [],
   "source": [
    "match_df[\"firstBloodKill\"] = match_df[\"firstBloodKill\"].astype(int)"
   ]
  },
  {
   "cell_type": "code",
   "execution_count": null,
   "metadata": {},
   "outputs": [],
   "source": [
    "sns.countplot(data=match_df, x=\"firstBloodKill\", hue=\"win\")"
   ]
  },
  {
   "cell_type": "markdown",
   "metadata": {},
   "source": [
    "#### When the player is responsible of the firstBlood, he is more likely to win the game "
   ]
  },
  {
   "cell_type": "code",
   "execution_count": null,
   "metadata": {},
   "outputs": [],
   "source": [
    "fb_winrate = match_df[match_df[\"firstBloodKill\"] == 1].groupby(\"win\")[\"firstBloodKill\"].sum().reset_index()\n",
    "\n",
    "sns.barplot(data=fb_winrate, y=\"firstBloodKill\", x=\"win\")\n",
    "plt.title(\"First blood rate per victory status\")\n",
    "plt.show()"
   ]
  },
  {
   "cell_type": "markdown",
   "metadata": {},
   "source": [
    "#### When the player has contributed in the first blood , he is more likely to win the game "
   ]
  },
  {
   "cell_type": "code",
   "execution_count": null,
   "metadata": {},
   "outputs": [],
   "source": [
    "fb_winrate = match_df[match_df[\"firstBloodAssist\"] == 1].groupby(\"win\")[\"firstBloodAssist\"].sum().reset_index()\n",
    "sns.barplot(data=fb_winrate, y=\"firstBloodAssist\", x=\"win\")\n",
    "plt.title(\"First blood rate per victory status\")\n",
    "plt.show()"
   ]
  },
  {
   "cell_type": "markdown",
   "metadata": {},
   "source": [
    "### Analysis of game versions and dates\n",
    "\n",
    "Exploratory analysis of the evaluation of the win rates over months during the season 12. We would like to see if we obtain different distributions from one path to another "
   ]
  },
  {
   "cell_type": "code",
   "execution_count": null,
   "metadata": {},
   "outputs": [],
   "source": [
    "print(\"All different game versions\", match_df[\"gameVersion\"].unique())"
   ]
  },
  {
   "cell_type": "code",
   "execution_count": null,
   "metadata": {},
   "outputs": [],
   "source": [
    "versions = match_df[\"gameVersion\"].value_counts()\n",
    "print(versions)"
   ]
  },
  {
   "cell_type": "code",
   "execution_count": null,
   "metadata": {},
   "outputs": [],
   "source": [
    "wr_version = match_df.groupby(\"gameVersion\")[[\"win\"]].mean().reset_index()\n",
    "wr_version\n",
    "sns.barplot(data=wr_version, y=\"win\", x=\"gameVersion\")\n",
    "plt.title(\"First blood rate per victory status\")\n",
    "plt.xticks(rotation=90)\n",
    "plt.yscale(\"log\")\n",
    "plt.show()"
   ]
  },
  {
   "cell_type": "markdown",
   "metadata": {},
   "source": [
    "#### date formatting"
   ]
  },
  {
   "cell_type": "code",
   "execution_count": null,
   "metadata": {},
   "outputs": [],
   "source": [
    "def to_date(timestamp): \n",
    "    res = datetime.fromtimestamp(timestamp / 1000).strftime('%Y-%m-%d')\n",
    "    return res"
   ]
  },
  {
   "cell_type": "code",
   "execution_count": null,
   "metadata": {},
   "outputs": [],
   "source": [
    "from datetime import datetime\n",
    "match_df[\"gameCreation\"] = match_df[\"gameCreation\"].apply(lambda x: to_date(x))"
   ]
  },
  {
   "cell_type": "code",
   "execution_count": null,
   "metadata": {},
   "outputs": [],
   "source": [
    "match_df = match_df.sort_values(by=\"gameCreation\")"
   ]
  },
  {
   "cell_type": "markdown",
   "metadata": {},
   "source": [
    "### Evolution of turretTakedowns over time"
   ]
  },
  {
   "cell_type": "code",
   "execution_count": null,
   "metadata": {},
   "outputs": [],
   "source": [
    "plt.figure(figsize=(20,10))\n",
    "plt.xticks(rotation=90)\n",
    "plt.title(\"turretTakedowns over time\")\n",
    "sns.lineplot(data=match_df, x=\"gameCreation\", y=\"turretTakedowns\", hue=\"gameVersion\")"
   ]
  },
  {
   "cell_type": "markdown",
   "metadata": {},
   "source": [
    "### Evolution of penta kills over time"
   ]
  },
  {
   "cell_type": "code",
   "execution_count": null,
   "metadata": {},
   "outputs": [],
   "source": [
    "penta_time = match_df.groupby(\"gameCreation\")[\"pentaKills\"].sum().reset_index()\n",
    "\n",
    "plt.figure(figsize=(20,10))\n",
    "plt.xticks(rotation=90)\n",
    "plt.title(\"Penta Kills over time\")\n",
    "sns.lineplot(data=penta_time, x=\"gameCreation\", y=\"pentaKills\")"
   ]
  },
  {
   "cell_type": "markdown",
   "metadata": {},
   "source": [
    "### Evolution of kills over time "
   ]
  },
  {
   "cell_type": "code",
   "execution_count": null,
   "metadata": {},
   "outputs": [],
   "source": [
    "plt.figure(figsize=(20,10))\n",
    "plt.xticks(rotation=90)\n",
    "plt.title(\"Kills over time\")\n",
    "sns.lineplot(data=match_df, x=\"gameCreation\", y=\"kills\", hue=\"gameVersion\")\n",
    "plt.show()"
   ]
  },
  {
   "cell_type": "markdown",
   "metadata": {},
   "source": [
    "### Bounty level per game version"
   ]
  },
  {
   "cell_type": "code",
   "execution_count": null,
   "metadata": {},
   "outputs": [],
   "source": [
    "plt.figure(figsize=(20,10))\n",
    "plt.xticks(rotation=90)\n",
    "plt.title(\"Kills over time\")\n",
    "sns.barplot(data=match_df, x=\"gameVersion\", y=\"bountyLevel\", hue=\"win\")"
   ]
  },
  {
   "cell_type": "markdown",
   "metadata": {},
   "source": [
    "## One hot encoding\n",
    "\n",
    "-> of plateformID <br>\n",
    "-> gameVersion <br>\n",
    "-> of items (we have around 200 items)\n"
   ]
  },
  {
   "cell_type": "code",
   "execution_count": null,
   "metadata": {},
   "outputs": [],
   "source": [
    "match_df = match_df.join(pd.get_dummies(match_df[\"platformId\"]))"
   ]
  },
  {
   "cell_type": "code",
   "execution_count": null,
   "metadata": {},
   "outputs": [],
   "source": [
    "match_df.drop(\"platformId\", axis=1,inplace=True)"
   ]
  },
  {
   "cell_type": "code",
   "execution_count": null,
   "metadata": {},
   "outputs": [],
   "source": [
    "pd.get_dummies(match_df[f\"item2\"])"
   ]
  },
  {
   "cell_type": "code",
   "execution_count": null,
   "metadata": {},
   "outputs": [],
   "source": [
    "item_cols = []\n",
    "\n",
    "for i in range(6): \n",
    "    item_cols.extend(\n",
    "        match_df[f\"item{i+1}\"].to_list()\n",
    "    )\n",
    "    \n",
    "item_cols = set(item_cols)"
   ]
  },
  {
   "cell_type": "code",
   "execution_count": null,
   "metadata": {},
   "outputs": [],
   "source": [
    "items = pd.DataFrame(columns=item_cols)\n",
    "\n",
    "for i in range(7): \n",
    "    items = items.add(pd.get_dummies(match_df[f\"item{i}\"].astype(int)), fill_value=0)\n"
   ]
  },
  {
   "cell_type": "code",
   "execution_count": null,
   "metadata": {},
   "outputs": [],
   "source": [
    "match_df = match_df.join(items)"
   ]
  },
  {
   "cell_type": "code",
   "execution_count": null,
   "metadata": {},
   "outputs": [],
   "source": [
    "for i in range(7):\n",
    "    match_df.drop(f\"item{i}\", axis=1, inplace=True)"
   ]
  },
  {
   "cell_type": "code",
   "execution_count": null,
   "metadata": {},
   "outputs": [],
   "source": [
    "# game version \n",
    "\n",
    "match_df = match_df.join(pd.get_dummies(match_df[\"gameVersion\"]))"
   ]
  },
  {
   "cell_type": "code",
   "execution_count": null,
   "metadata": {},
   "outputs": [],
   "source": [
    "match_df.drop(\"gameVersion\", axis=1, inplace=True)"
   ]
  },
  {
   "cell_type": "markdown",
   "metadata": {},
   "source": [
    "### Let's recap our new changes "
   ]
  },
  {
   "cell_type": "code",
   "execution_count": null,
   "metadata": {},
   "outputs": [],
   "source": [
    "# 1 - Missing values \n",
    "for col in match_df.columns: \n",
    "    print(f\"Column : {col} has {match_df[col].isna().sum()} missing values\")"
   ]
  },
  {
   "cell_type": "markdown",
   "metadata": {},
   "source": [
    "### Let's drop more variables"
   ]
  },
  {
   "cell_type": "code",
   "execution_count": null,
   "metadata": {},
   "outputs": [],
   "source": [
    "match_df = match_df.drop(\"tournamentCode\", axis=1)"
   ]
  },
  {
   "cell_type": "markdown",
   "metadata": {},
   "source": [
    "## Feature Selction : Experiment 1 \n",
    "\n",
    "Our aim is to select the most relevant features to maximize the performance of our models \n",
    "Feature selection process : \n",
    "\n",
    "-> Amount of Variation <br>\n",
    "-> Correlation <br>\n",
    "-> Correlation with target <br>\n",
    "-> PCA <br>\n",
    "-> Cluster analysis <br>"
   ]
  },
  {
   "cell_type": "markdown",
   "metadata": {},
   "source": [
    "### Analysis of variation"
   ]
  },
  {
   "cell_type": "code",
   "execution_count": null,
   "metadata": {},
   "outputs": [],
   "source": [
    "# plt.figure(figsize=(100,100))\n",
    "match_variance = match_df.var().reset_index()\n",
    "match_std = match_df.std().reset_index()"
   ]
  },
  {
   "cell_type": "code",
   "execution_count": null,
   "metadata": {},
   "outputs": [],
   "source": [
    "match_variance.rename(columns={0: \"variance\"}, inplace=True)\n",
    "match_std.rename(columns={0: \"std\"}, inplace=True)"
   ]
  },
  {
   "cell_type": "code",
   "execution_count": null,
   "metadata": {},
   "outputs": [],
   "source": [
    "match_variance"
   ]
  },
  {
   "cell_type": "markdown",
   "metadata": {},
   "source": [
    "### show top 100 features with the lowest amount of variation "
   ]
  },
  {
   "cell_type": "code",
   "execution_count": null,
   "metadata": {},
   "outputs": [],
   "source": [
    "match_variance = match_variance.sort_values(\"variance\", ascending=True)\n",
    "match_variance\n",
    "plt.figure(figsize=(20,20))\n",
    "plt.xticks(rotation=90)\n",
    "plt.title(\"top 20 feature with the lowest variance\")\n",
    "sns.barplot(y=\"variance\",x=\"index\", data=match_variance[:100])"
   ]
  },
  {
   "cell_type": "code",
   "execution_count": null,
   "metadata": {},
   "outputs": [],
   "source": [
    "match_std = match_std.sort_values(\"std\", ascending=True)\n",
    "match_variance\n",
    "plt.figure(figsize=(20,20))\n",
    "plt.xticks(rotation=90)\n",
    "plt.title(\"top 20 feature with the lowest std\")\n",
    "sns.barplot(y=\"std\",x=\"index\", data=match_std[:100])"
   ]
  },
  {
   "cell_type": "markdown",
   "metadata": {},
   "source": [
    "#### For Machine Learning purposes, we will drop features that are not one hot encoded and have a low amount of variation"
   ]
  },
  {
   "cell_type": "code",
   "execution_count": null,
   "metadata": {},
   "outputs": [],
   "source": [
    "to_remove = [\"sightWardsBoughtInGame\", \"teamEarlySurrendered\", \"pentaKills\", \"gameEndedInEarlySurrender\", \"objectivesStolenAssists\", \"championTransform\"]\n",
    "match_df = match_df.drop(to_remove, axis=1) "
   ]
  },
  {
   "cell_type": "code",
   "execution_count": null,
   "metadata": {},
   "outputs": [],
   "source": [
    "# plt.figure(figsize=(100,100))\n",
    "match_variance = match_df.var().reset_index()\n",
    "match_std = match_df.std().reset_index()\n",
    "match_variance.rename(columns={0: \"variance\"}, inplace=True)\n",
    "match_std.rename(columns={0: \"std\"}, inplace=True)"
   ]
  },
  {
   "cell_type": "markdown",
   "metadata": {},
   "source": [
    "### Let's see the new TOP 100"
   ]
  },
  {
   "cell_type": "code",
   "execution_count": null,
   "metadata": {},
   "outputs": [],
   "source": [
    "match_variance = match_variance.sort_values(\"variance\", ascending=True)\n",
    "match_variance\n",
    "plt.figure(figsize=(20,20))\n",
    "plt.xticks(rotation=90)\n",
    "plt.title(\"top 20 feature with the lowest variance\")\n",
    "sns.barplot(y=\"variance\",x=\"index\", data=match_variance[:100])"
   ]
  },
  {
   "cell_type": "code",
   "execution_count": null,
   "metadata": {},
   "outputs": [],
   "source": [
    "match_std = match_std.sort_values(\"std\", ascending=True)\n",
    "match_variance\n",
    "plt.figure(figsize=(20,20))\n",
    "plt.xticks(rotation=90)\n",
    "plt.title(\"top 20 feature with the lowest std\")\n",
    "sns.barplot(y=\"std\",x=\"index\", data=match_std[:100])"
   ]
  },
  {
   "cell_type": "markdown",
   "metadata": {},
   "source": [
    "#### We might remove items with low variation later "
   ]
  },
  {
   "cell_type": "code",
   "execution_count": null,
   "metadata": {},
   "outputs": [],
   "source": [
    "to_remove = []"
   ]
  },
  {
   "cell_type": "markdown",
   "metadata": {},
   "source": [
    "### Analysis of pairwise correlation\n",
    "\n",
    "- df.corr() uses the pearson's coefficient which assumes that the variables are normally distributed\n"
   ]
  },
  {
   "cell_type": "code",
   "execution_count": null,
   "metadata": {},
   "outputs": [],
   "source": [
    "corr = match_df[[x for x in match_df.columns if x not in items.columns]].corr()"
   ]
  },
  {
   "cell_type": "markdown",
   "metadata": {},
   "source": [
    "gameEndTimeStamp and gameStartTimeStamp are highly correlated (pos)"
   ]
  },
  {
   "cell_type": "code",
   "execution_count": null,
   "metadata": {},
   "outputs": [],
   "source": [
    "print(\"correlation vector damageDealtToBuildings\")\n",
    "to_remove.append(\"damageDealtToTurrets\")\n",
    "corr[\"damageDealtToBuildings\"].sort_values()"
   ]
  },
  {
   "cell_type": "markdown",
   "metadata": {},
   "source": [
    "gameEndTimeStamp and gameStartTimeStamp are highly correlated (pos)"
   ]
  },
  {
   "cell_type": "code",
   "execution_count": null,
   "metadata": {},
   "outputs": [],
   "source": [
    "print(\"correlation vector goldEarned\")\n",
    "to_remove.append(\"goldSpent\")\n",
    "corr[\"goldEarned\"].sort_values()"
   ]
  },
  {
   "cell_type": "markdown",
   "metadata": {},
   "source": [
    "gameEndTimeStamp and gameStartTimeStamp are highly correlated (pos)"
   ]
  },
  {
   "cell_type": "code",
   "execution_count": null,
   "metadata": {},
   "outputs": [],
   "source": [
    "print(\"correlation vector consumablesPurchased\")\n",
    "to_remove.append(\"detectorWardsPlaced\")\n",
    "corr[\"consumablesPurchased\"].sort_values()"
   ]
  },
  {
   "cell_type": "code",
   "execution_count": null,
   "metadata": {},
   "outputs": [],
   "source": [
    "to_remove.append(\"gameEndTimestamp\")\n",
    "to_remove.append(\"gameStartTimestamp\")"
   ]
  },
  {
   "cell_type": "code",
   "execution_count": null,
   "metadata": {},
   "outputs": [],
   "source": [
    "to_remove"
   ]
  },
  {
   "cell_type": "code",
   "execution_count": null,
   "metadata": {},
   "outputs": [],
   "source": [
    "match_df.drop(to_remove, axis=1, inplace=True)"
   ]
  },
  {
   "cell_type": "code",
   "execution_count": null,
   "metadata": {},
   "outputs": [],
   "source": [
    "corr = match_df[[x for x in match_df.columns if x not in items.columns]].corr()"
   ]
  },
  {
   "cell_type": "code",
   "execution_count": null,
   "metadata": {},
   "outputs": [],
   "source": [
    "plt.figure(figsize=(20,20))\n",
    "sns.heatmap(corr)"
   ]
  },
  {
   "cell_type": "markdown",
   "metadata": {},
   "source": [
    "### Study of correlation with the target "
   ]
  },
  {
   "cell_type": "code",
   "execution_count": null,
   "metadata": {},
   "outputs": [],
   "source": [
    "target_corr = corr[\"win\"].sort_values()\n",
    "target_corr"
   ]
  },
  {
   "cell_type": "code",
   "execution_count": null,
   "metadata": {},
   "outputs": [],
   "source": [
    "### we will drop nexusLost  \n",
    "match_df.drop(\"nexusLost\", axis=1, inplace=True)"
   ]
  },
  {
   "cell_type": "markdown",
   "metadata": {},
   "source": [
    "## Feature Standardization"
   ]
  },
  {
   "cell_type": "code",
   "execution_count": null,
   "metadata": {},
   "outputs": [],
   "source": [
    "match_df.drop([\"role\", \"individualPosition\", \"lane\"], axis=1, inplace=True)\n",
    "match_df.drop(\"summonerId\", axis=1, inplace=True)\n",
    "match_df.drop(\"summonerName\", axis=1, inplace=True)\n",
    "match_df.drop(\"championName\", axis=1, inplace=True)\n",
    "match_df.drop([\"queueId\", \"participantId\", \"profileIcon\"], axis=1, inplace=True)"
   ]
  },
  {
   "cell_type": "code",
   "execution_count": null,
   "metadata": {},
   "outputs": [],
   "source": [
    "# reconverting dates : \n",
    "match_df[\"gameCreation\"] = match_df[\"gameCreation\"].apply(lambda x : datetime.strptime(x, \"%Y-%m-%d\").timestamp()) "
   ]
  },
  {
   "cell_type": "code",
   "execution_count": null,
   "metadata": {},
   "outputs": [],
   "source": [
    "match_df.columns.tolist()"
   ]
  },
  {
   "cell_type": "code",
   "execution_count": null,
   "metadata": {},
   "outputs": [],
   "source": [
    "match_df.describe()"
   ]
  },
  {
   "cell_type": "code",
   "execution_count": null,
   "metadata": {},
   "outputs": [],
   "source": [
    "# let's do some more one hot encoding\n",
    "\n",
    "match_df = match_df.join(pd.get_dummies(match_df[\"championName\"]))"
   ]
  },
  {
   "cell_type": "code",
   "execution_count": null,
   "metadata": {},
   "outputs": [],
   "source": [
    "match_df = match_df.join(pd.get_dummies(match_df[\"teamPosition\"]))"
   ]
  },
  {
   "cell_type": "code",
   "execution_count": null,
   "metadata": {},
   "outputs": [],
   "source": [
    "from sklearn.preprocessing import StandardScaler\n",
    "\n",
    "scaler = StandardScaler()\n",
    "scaler.fit(match_df)\n",
    "match_df = scaler.transform(match_df)"
   ]
  },
  {
   "cell_type": "code",
   "execution_count": null,
   "metadata": {},
   "outputs": [],
   "source": [
    "match_df[\"gameVersion\"]"
   ]
  },
  {
   "cell_type": "code",
   "execution_count": null,
   "metadata": {},
   "outputs": [],
   "source": []
  }
 ],
 "metadata": {
  "kernelspec": {
   "display_name": "Python 3",
   "language": "python",
   "name": "python3"
  },
  "language_info": {
   "codemirror_mode": {
    "name": "ipython",
    "version": 3
   },
   "file_extension": ".py",
   "mimetype": "text/x-python",
   "name": "python",
   "nbconvert_exporter": "python",
   "pygments_lexer": "ipython3",
   "version": "3.7.4"
  }
 },
 "nbformat": 4,
 "nbformat_minor": 2
}
